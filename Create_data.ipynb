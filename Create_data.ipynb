{
 "cells": [
  {
   "cell_type": "code",
   "execution_count": 1,
   "id": "343b8a1f",
   "metadata": {},
   "outputs": [],
   "source": [
    "import numpy as np"
   ]
  },
  {
   "cell_type": "code",
   "execution_count": 4,
   "id": "bed4dc76",
   "metadata": {},
   "outputs": [],
   "source": [
    "for i in range(1, 9):\n",
    "    test_case = 'test' + str(i) + '.txt'\n",
    "    a = 10000 - 10000 * np.random.randn(1000, 1000)\n",
    "    a = a.reshape(1000000)\n",
    "    np.savetxt(test_case, a, delimiter =\" \")\n"
   ]
  },
  {
   "cell_type": "code",
   "execution_count": 6,
   "id": "6c25cd46",
   "metadata": {},
   "outputs": [],
   "source": [
    "a = 10000 - 10000 * np.random.randn(1000, 1000)\n",
    "a = a.reshape(1000000)\n",
    "a = np.sort(a)\n",
    "a = a[::-1]\n",
    "np.savetxt(\"test10.txt\", a, delimiter =\" \")\n"
   ]
  },
  {
   "cell_type": "code",
   "execution_count": 5,
   "id": "89c88a8b",
   "metadata": {},
   "outputs": [],
   "source": [
    "a = 10000 - 10000 * np.random.randn(1000, 1000)\n",
    "a = a.reshape(1000000)\n",
    "a = np.sort(a)\n",
    "np.savetxt(\"test9.txt\", a, delimiter =\" \")"
   ]
  },
  {
   "cell_type": "code",
   "execution_count": null,
   "id": "1b8320ad",
   "metadata": {},
   "outputs": [],
   "source": []
  }
 ],
 "metadata": {
  "kernelspec": {
   "display_name": "Python 3 (ipykernel)",
   "language": "python",
   "name": "python3"
  },
  "language_info": {
   "codemirror_mode": {
    "name": "ipython",
    "version": 3
   },
   "file_extension": ".py",
   "mimetype": "text/x-python",
   "name": "python",
   "nbconvert_exporter": "python",
   "pygments_lexer": "ipython3",
   "version": "3.9.7"
  }
 },
 "nbformat": 4,
 "nbformat_minor": 5
}
